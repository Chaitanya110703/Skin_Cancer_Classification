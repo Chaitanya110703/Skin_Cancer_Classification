{
 "cells": [
  {
   "cell_type": "code",
   "execution_count": null,
   "id": "5a0f13a1",
   "metadata": {},
   "outputs": [],
   "source": [
    "from PIL import Image\n",
    "import os\n",
    "\n",
    "input_dir = \"bcc\"\n",
    "output_dir = \"\"\n",
    "\n",
    "# Loop through each image file in the input directory\n",
    "for filename in os.listdir(input_dir):\n",
    "    if filename.endswith(\".jpeg\") or filename.endswith(\".png\"):\n",
    "        # Open the image file\n",
    "        img_path = os.path.join(input_dir, filename)\n",
    "        img = Image.open(img_path)\n",
    "\n",
    "        # Convert the image to grayscale\n",
    "        gray_img = img.convert('L')\n",
    "\n",
    "        # Resize the image to 28x28 pixels\n",
    "        resized_img = gray_img.resize((49, 49))\n",
    "\n",
    "        # Save the resized grayscale image to the output directory\n",
    "        output_path = os.path.join(output_dir, filename)\n",
    "        resized_img.save(output_path)\n",
    "        \n",
    "print(\"DONE_Convert\")"
   ]
  }
 ],
 "metadata": {
  "kernelspec": {
   "display_name": "Python 3 (ipykernel)",
   "language": "python",
   "name": "python3"
  },
  "language_info": {
   "codemirror_mode": {
    "name": "ipython",
    "version": 3
   },
   "file_extension": ".py",
   "mimetype": "text/x-python",
   "name": "python",
   "nbconvert_exporter": "python",
   "pygments_lexer": "ipython3",
   "version": "3.10.11"
  }
 },
 "nbformat": 4,
 "nbformat_minor": 5
}
