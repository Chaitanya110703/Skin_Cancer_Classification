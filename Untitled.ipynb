{
 "cells": [
  {
   "cell_type": "code",
   "execution_count": 1,
   "id": "2894c699",
   "metadata": {},
   "outputs": [
    {
     "ename": "error",
     "evalue": "OpenCV(4.8.0) D:\\a\\opencv-python\\opencv-python\\opencv\\modules\\imgproc\\src\\color.cpp:182: error: (-215:Assertion failed) !_src.empty() in function 'cv::cvtColor'\n",
     "output_type": "error",
     "traceback": [
      "\u001b[1;31m---------------------------------------------------------------------------\u001b[0m",
      "\u001b[1;31merror\u001b[0m                                     Traceback (most recent call last)",
      "Cell \u001b[1;32mIn[1], line 36\u001b[0m\n\u001b[0;32m     33\u001b[0m image \u001b[38;5;241m=\u001b[39m cv2\u001b[38;5;241m.\u001b[39mimread(input_image_path)\n\u001b[0;32m     35\u001b[0m \u001b[38;5;66;03m# Enhance the image\u001b[39;00m\n\u001b[1;32m---> 36\u001b[0m enhanced_image \u001b[38;5;241m=\u001b[39m \u001b[43menhance_image\u001b[49m\u001b[43m(\u001b[49m\u001b[43mimage\u001b[49m\u001b[43m)\u001b[49m\n\u001b[0;32m     38\u001b[0m \u001b[38;5;66;03m# Upscale the enhanced image\u001b[39;00m\n\u001b[0;32m     39\u001b[0m upscaled_image \u001b[38;5;241m=\u001b[39m upscale_image(enhanced_image)\n",
      "Cell \u001b[1;32mIn[1], line 6\u001b[0m, in \u001b[0;36menhance_image\u001b[1;34m(image)\u001b[0m\n\u001b[0;32m      4\u001b[0m \u001b[38;5;28;01mdef\u001b[39;00m \u001b[38;5;21menhance_image\u001b[39m(image):\n\u001b[0;32m      5\u001b[0m     \u001b[38;5;66;03m# Convert the image to LAB color space\u001b[39;00m\n\u001b[1;32m----> 6\u001b[0m     lab \u001b[38;5;241m=\u001b[39m \u001b[43mcv2\u001b[49m\u001b[38;5;241;43m.\u001b[39;49m\u001b[43mcvtColor\u001b[49m\u001b[43m(\u001b[49m\u001b[43mimage\u001b[49m\u001b[43m,\u001b[49m\u001b[43m \u001b[49m\u001b[43mcv2\u001b[49m\u001b[38;5;241;43m.\u001b[39;49m\u001b[43mCOLOR_BGR2LAB\u001b[49m\u001b[43m)\u001b[49m\n\u001b[0;32m      8\u001b[0m     \u001b[38;5;66;03m# Split the LAB image into L, A, and B channels\u001b[39;00m\n\u001b[0;32m      9\u001b[0m     l, a, b \u001b[38;5;241m=\u001b[39m cv2\u001b[38;5;241m.\u001b[39msplit(lab)\n",
      "\u001b[1;31merror\u001b[0m: OpenCV(4.8.0) D:\\a\\opencv-python\\opencv-python\\opencv\\modules\\imgproc\\src\\color.cpp:182: error: (-215:Assertion failed) !_src.empty() in function 'cv::cvtColor'\n"
     ]
    }
   ],
   "source": [
    "import cv2\n",
    "import numpy as np\n",
    "\n",
    "def enhance_image(image):\n",
    "    # Convert the image to LAB color space\n",
    "    lab = cv2.cvtColor(image, cv2.COLOR_BGR2LAB)\n",
    "\n",
    "    # Split the LAB image into L, A, and B channels\n",
    "    l, a, b = cv2.split(lab)\n",
    "\n",
    "    # Apply CLAHE (Contrast Limited Adaptive Histogram Equalization) to the L channel\n",
    "    clahe = cv2.createCLAHE(clipLimit=3.0, tileGridSize=(8, 8))\n",
    "    cl = clahe.apply(l)\n",
    "\n",
    "    # Merge the enhanced L channel with the original A and B channels\n",
    "    enhanced_lab = cv2.merge((cl, a, b))\n",
    "\n",
    "    # Convert the LAB image back to BGR color space\n",
    "    enhanced_image = cv2.cvtColor(enhanced_lab, cv2.COLOR_LAB2BGR)\n",
    "\n",
    "    return enhanced_image\n",
    "\n",
    "def upscale_image(image, scale_factor=2):\n",
    "    # Use cubic interpolation for upscaling\n",
    "    height, width, _ = image.shape\n",
    "    new_size = (width * scale_factor, height * scale_factor)\n",
    "    upscaled_image = cv2.resize(image, new_size, interpolation=cv2.INTER_CUBIC)\n",
    "\n",
    "    return upscaled_image\n",
    "\n",
    "# Load the image\n",
    "input_image_path = 'nv.jpeg'\n",
    "image = cv2.imread(input_image_path)\n",
    "\n",
    "# Enhance the image\n",
    "enhanced_image = enhance_image(image)\n",
    "\n",
    "# Upscale the enhanced image\n",
    "upscaled_image = upscale_image(enhanced_image)\n",
    "\n",
    "# Display the results\n",
    "cv2.imshow('Original Image', image)\n",
    "cv2.imshow('Enhanced Image', enhanced_image)\n",
    "cv2.imshow('Upscaled Image', upscaled_image)\n",
    "cv2.waitKey(0)\n",
    "cv2.destroyAllWindows()"
   ]
  },
  {
   "cell_type": "code",
   "execution_count": null,
   "id": "c9161698",
   "metadata": {},
   "outputs": [],
   "source": []
  }
 ],
 "metadata": {
  "kernelspec": {
   "display_name": "Python 3 (ipykernel)",
   "language": "python",
   "name": "python3"
  },
  "language_info": {
   "codemirror_mode": {
    "name": "ipython",
    "version": 3
   },
   "file_extension": ".py",
   "mimetype": "text/x-python",
   "name": "python",
   "nbconvert_exporter": "python",
   "pygments_lexer": "ipython3",
   "version": "3.9.18"
  }
 },
 "nbformat": 4,
 "nbformat_minor": 5
}
